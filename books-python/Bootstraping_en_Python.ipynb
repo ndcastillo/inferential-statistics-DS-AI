{
  "nbformat": 4,
  "nbformat_minor": 0,
  "metadata": {
    "colab": {
      "provenance": [],
      "authorship_tag": "ABX9TyMmR457wpBwTZhpkvfsQ9V9",
      "include_colab_link": true
    },
    "kernelspec": {
      "name": "python3",
      "display_name": "Python 3"
    },
    "language_info": {
      "name": "python"
    }
  },
  "cells": [
    {
      "cell_type": "markdown",
      "metadata": {
        "id": "view-in-github",
        "colab_type": "text"
      },
      "source": [
        "<a href=\"https://colab.research.google.com/github/ndcastillo/inferential-statistics-DS-AI/blob/main/Bootstraping_en_Python.ipynb\" target=\"_parent\"><img src=\"https://colab.research.google.com/assets/colab-badge.svg\" alt=\"Open In Colab\"/></a>"
      ]
    },
    {
      "cell_type": "markdown",
      "source": [
        "### Importamos las librerias"
      ],
      "metadata": {
        "id": "oK68F1lw-WQz"
      }
    },
    {
      "cell_type": "code",
      "execution_count": null,
      "metadata": {
        "id": "TPPkaWzD-R1L"
      },
      "outputs": [],
      "source": [
        "import pandas as pd\n",
        "import numpy as np\n",
        "import random"
      ]
    },
    {
      "cell_type": "code",
      "source": [
        "data = np.random.normal(loc = 34, size = 10000)\n",
        "data"
      ],
      "metadata": {
        "colab": {
          "base_uri": "https://localhost:8080/"
        },
        "id": "rEEGT53U-bQc",
        "outputId": "2311bffb-9e84-4bd6-d8bc-2e6d6637df80"
      },
      "execution_count": null,
      "outputs": [
        {
          "output_type": "execute_result",
          "data": {
            "text/plain": [
              "array([33.79409436, 35.03794307, 35.69715459, ..., 33.40271703,\n",
              "       34.80394202, 34.67239766])"
            ]
          },
          "metadata": {},
          "execution_count": 5
        }
      ]
    },
    {
      "cell_type": "code",
      "source": [
        "data.mean()"
      ],
      "metadata": {
        "colab": {
          "base_uri": "https://localhost:8080/"
        },
        "id": "mb71oc2v-v9k",
        "outputId": "41ca78cf-a35b-4666-9aac-ba3739728551"
      },
      "execution_count": null,
      "outputs": [
        {
          "output_type": "execute_result",
          "data": {
            "text/plain": [
              "33.995127135206516"
            ]
          },
          "metadata": {},
          "execution_count": 6
        }
      ]
    },
    {
      "cell_type": "markdown",
      "source": [
        "### Procedimiento de Bootstraping\n",
        "Para calcular el promedio de edades"
      ],
      "metadata": {
        "id": "A0kXla9G-2LK"
      }
    },
    {
      "cell_type": "code",
      "source": [
        "promedio = []\n",
        "for i in range(40):\n",
        "  # remuestreo\n",
        "  muestra = random.sample(data.tolist(),5) \n",
        "  prom = np.mean(muestra)\n",
        "  promedio.append(prom)\n",
        "\n",
        "np.mean(promedio)"
      ],
      "metadata": {
        "id": "eDGtzB3U-1mY",
        "colab": {
          "base_uri": "https://localhost:8080/"
        },
        "outputId": "b7b011c2-ccf0-4452-9532-6df5db6d4e6a"
      },
      "execution_count": null,
      "outputs": [
        {
          "output_type": "execute_result",
          "data": {
            "text/plain": [
              "33.92903203335629"
            ]
          },
          "metadata": {},
          "execution_count": 11
        }
      ]
    },
    {
      "cell_type": "markdown",
      "source": [
        "## Reto de Bootstrapping"
      ],
      "metadata": {
        "id": "CDfODflCGWvV"
      }
    },
    {
      "cell_type": "code",
      "source": [
        "data = np.random.normal(loc = 34, size = 100000)\n",
        "promedio = []\n",
        "for i in range(100):\n",
        "  # remuestreo\n",
        "  muestra = random.sample(data.tolist(),5) \n",
        "  prom = np.mean(muestra)\n",
        "  promedio.append(prom)\n",
        "\n",
        "print(data.mean())\n",
        "print(np.mean(promedio))"
      ],
      "metadata": {
        "colab": {
          "base_uri": "https://localhost:8080/"
        },
        "id": "cOgypXzfGZXE",
        "outputId": "ebe04220-24a1-4487-9213-7541d2232c75"
      },
      "execution_count": null,
      "outputs": [
        {
          "output_type": "stream",
          "name": "stdout",
          "text": [
            "33.99548354713849\n",
            "34.06456771528658\n"
          ]
        }
      ]
    }
  ]
}