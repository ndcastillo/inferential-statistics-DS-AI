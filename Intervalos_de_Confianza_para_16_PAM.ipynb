{
  "nbformat": 4,
  "nbformat_minor": 0,
  "metadata": {
    "colab": {
      "name": "Intervalos de Confianza para 16-PAM.ipynb",
      "provenance": [],
      "authorship_tag": "ABX9TyNxPKUvai+NqpZMmnKDFXqg",
      "include_colab_link": true
    },
    "kernelspec": {
      "name": "python3",
      "display_name": "Python 3"
    },
    "language_info": {
      "name": "python"
    }
  },
  "cells": [
    {
      "cell_type": "markdown",
      "metadata": {
        "id": "view-in-github",
        "colab_type": "text"
      },
      "source": [
        "<a href=\"https://colab.research.google.com/github/ndcastillo/inferential-statistics-DS-AI/blob/main/Intervalos_de_Confianza_para_16_PAM.ipynb\" target=\"_parent\"><img src=\"https://colab.research.google.com/assets/colab-badge.svg\" alt=\"Open In Colab\"/></a>"
      ]
    },
    {
      "cell_type": "markdown",
      "source": [
        "## Librerias de Interes"
      ],
      "metadata": {
        "id": "ZsPvoJIgwbr6"
      }
    },
    {
      "cell_type": "code",
      "execution_count": 4,
      "metadata": {
        "id": "mLi6r0_zwQmP"
      },
      "outputs": [],
      "source": [
        "import pandas as pd\n",
        "import numpy as np\n",
        "import matplotlib.pyplot as plt\n",
        "import seaborn as sns\n",
        "import scipy.stats as st"
      ]
    },
    {
      "cell_type": "markdown",
      "source": [
        "## Modelo de Investigación\n",
        "> Modelamos un sistema de 16 PAM donde tendremos 16 niveles de tensión a transmitir que hipoteticamente seran de 0 a 16 [V], por cuanto introducimos ruido gaussiano a cada simbolo con una densidad de potencia de 1 W/Hz. es decir $\\sigma^2 = 1$.\n",
        "\n"
      ],
      "metadata": {
        "id": "RYEuTV3dxcr_"
      }
    },
    {
      "cell_type": "code",
      "source": [
        "np.random.seed(50)\n",
        "var1 = np.random.randint(0,16,50) # Simbolos Transmitidos PAM\n",
        "var2 = var1 + np.random.normal(0,1,50) \n",
        "# Ruido Introducido, Simbolos + Ruido de densidad espectral de 1 W/Hz"
      ],
      "metadata": {
        "id": "9WooJ70Kxiwt"
      },
      "execution_count": 5,
      "outputs": []
    },
    {
      "cell_type": "markdown",
      "source": [
        "## Visualización de resultados con un intervalo de confianza del 80%"
      ],
      "metadata": {
        "id": "6e_MteKUyWdn"
      }
    },
    {
      "cell_type": "code",
      "source": [
        "grafico = sns.regplot(var1, var2, ci=80, color='orange')\n",
        "plt.ylabel('Simbolos+ Ruido')\n",
        "plt.xlabel('Simobolos Transmitidos')"
      ],
      "metadata": {
        "colab": {
          "base_uri": "https://localhost:8080/",
          "height": 351
        },
        "id": "6h-TamDxyb0Z",
        "outputId": "dad435da-6e67-44d3-f61c-9197b60b3058"
      },
      "execution_count": 6,
      "outputs": [
        {
          "output_type": "stream",
          "name": "stderr",
          "text": [
            "/usr/local/lib/python3.7/dist-packages/seaborn/_decorators.py:43: FutureWarning: Pass the following variables as keyword args: x, y. From version 0.12, the only valid positional argument will be `data`, and passing other arguments without an explicit keyword will result in an error or misinterpretation.\n",
            "  FutureWarning\n"
          ]
        },
        {
          "output_type": "execute_result",
          "data": {
            "text/plain": [
              "Text(0.5, 0, 'Simobolos Transmitidos')"
            ]
          },
          "metadata": {},
          "execution_count": 6
        },
        {
          "output_type": "display_data",
          "data": {
            "text/plain": [
              "<Figure size 432x288 with 1 Axes>"
            ],
            "image/png": "[encoded data removed]"
          },
          "metadata": {
            "needs_background": "light"
          }
        }
      ]
    },
    {
      "cell_type": "markdown",
      "source": [
        "Para descartar los datos atipicos, hacemos uso del intervalo de confianza y sus limites inferior y superior. De manera que generamos primero una tupla."
      ],
      "metadata": {
        "id": "uyfh3LE5wnem"
      }
    },
    {
      "cell_type": "code",
      "source": [
        "tuple = list(zip(var1,var2))\n",
        "tuple"
      ],
      "metadata": {
        "colab": {
          "base_uri": "https://localhost:8080/"
        },
        "id": "VGSXojAJvxX4",
        "outputId": "38bb6bae-6738-482c-e4df-1875b75131b4"
      },
      "execution_count": 9,
      "outputs": [
        {
          "output_type": "execute_result",
          "data": {
            "text/plain": [
              "[(0, -0.1456698069984574),\n",
              " (0, -0.3771329555051945),\n",
              " (11, 11.996321074238812),\n",
              " (13, 13.916701483417317),\n",
              " (1, 1.7555049213097713),\n",
              " (14, 13.93299824286406),\n",
              " (4, 5.678476079241438),\n",
              " (6, 5.142650460181629),\n",
              " (5, 6.113576665837981),\n",
              " (6, 7.690300314373186),\n",
              " (6, 6.700889068773923),\n",
              " (13, 11.931659486908297),\n",
              " (5, 5.245696095626683),\n",
              " (2, 2.3130487132744553),\n",
              " (15, 15.805133737632893),\n",
              " (10, 9.868987466034415),\n",
              " (7, 7.71330326142054),\n",
              " (15, 15.890510004995921),\n",
              " (4, 2.470553927140957),\n",
              " (14, 13.16253182299804),\n",
              " (3, 2.367504893953773),\n",
              " (12, 14.296217401401156),\n",
              " (11, 11.686083974349785),\n",
              " (10, 9.504837505089347),\n",
              " (10, 9.46542320334552),\n",
              " (6, 5.370422723130872),\n",
              " (4, 3.724415374982226),\n",
              " (11, 13.109749444970916),\n",
              " (15, 14.942478793198184),\n",
              " (1, -0.0038498289784922868),\n",
              " (5, 5.576494273838916),\n",
              " (10, 10.0507138477255),\n",
              " (9, 9.799534203541032),\n",
              " (0, 2.5125483843977277),\n",
              " (14, 14.825569167438738),\n",
              " (11, 9.878985334267806),\n",
              " (6, 6.8968121720837825),\n",
              " (3, 3.650613860458893),\n",
              " (2, 0.23787861578996683),\n",
              " (15, 16.338981587810743),\n",
              " (14, 14.561696607968702),\n",
              " (9, 9.76075784918655),\n",
              " (3, 2.6737658218349947),\n",
              " (3, 4.127560574248787),\n",
              " (10, 10.382014039001637),\n",
              " (12, 13.59277569210649),\n",
              " (3, 1.4692335980686515),\n",
              " (2, 2.858552211639854),\n",
              " (12, 10.622612901562057),\n",
              " (0, 1.8973325672132892)]"
            ]
          },
          "metadata": {},
          "execution_count": 9
        }
      ]
    },
    {
      "cell_type": "code",
      "source": [
        "tabla = pd.DataFrame(tuple,columns=['Simbolos Transmitidos','Señal + Ruido'])\n",
        "tabla.head()"
      ],
      "metadata": {
        "colab": {
          "base_uri": "https://localhost:8080/",
          "height": 206
        },
        "id": "oze6pLcXw8ff",
        "outputId": "13be63f5-94b4-42b2-93ca-5892260ce6ad"
      },
      "execution_count": 11,
      "outputs": [
        {
          "output_type": "execute_result",
          "data": {
            "text/plain": [
              "   Simbolos Transmitidos  Señal + Ruido\n",
              "0                      0      -0.145670\n",
              "1                      0      -0.377133\n",
              "2                     11      11.996321\n",
              "3                     13      13.916701\n",
              "4                      1       1.755505"
            ],
            "text/html": [
              "\n",
              "  <div id=\"df-402eb5ad-900a-4fac-8e03-1442858aba06\">\n",
              "    <div class=\"colab-df-container\">\n",
              "      <div>\n",
              "<style scoped>\n",
              "    .dataframe tbody tr th:only-of-type {\n",
              "        vertical-align: middle;\n",
              "    }\n",
              "\n",
              "    .dataframe tbody tr th {\n",
              "        vertical-align: top;\n",
              "    }\n",
              "\n",
              "    .dataframe thead th {\n",
              "        text-align: right;\n",
              "    }\n",
              "</style>\n",
              "<table border=\"1\" class=\"dataframe\">\n",
              "  <thead>\n",
              "    <tr style=\"text-align: right;\">\n",
              "      <th></th>\n",
              "      <th>Simbolos Transmitidos</th>\n",
              "      <th>Señal + Ruido</th>\n",
              "    </tr>\n",
              "  </thead>\n",
              "  <tbody>\n",
              "    <tr>\n",
              "      <th>0</th>\n",
              "      <td>0</td>\n",
              "      <td>-0.145670</td>\n",
              "    </tr>\n",
              "    <tr>\n",
              "      <th>1</th>\n",
              "      <td>0</td>\n",
              "      <td>-0.377133</td>\n",
              "    </tr>\n",
              "    <tr>\n",
              "      <th>2</th>\n",
              "      <td>11</td>\n",
              "      <td>11.996321</td>\n",
              "    </tr>\n",
              "    <tr>\n",
              "      <th>3</th>\n",
              "      <td>13</td>\n",
              "      <td>13.916701</td>\n",
              "    </tr>\n",
              "    <tr>\n",
              "      <th>4</th>\n",
              "      <td>1</td>\n",
              "      <td>1.755505</td>\n",
              "    </tr>\n",
              "  </tbody>\n",
              "</table>\n",
              "</div>\n",
              "      <button class=\"colab-df-convert\" onclick=\"convertToInteractive('df-402eb5ad-900a-4fac-8e03-1442858aba06')\"\n",
              "              title=\"Convert this dataframe to an interactive table.\"\n",
              "              style=\"display:none;\">\n",
              "        \n",
              "  <svg xmlns=\"http://www.w3.org/2000/svg\" height=\"24px\"viewBox=\"0 0 24 24\"\n",
              "       width=\"24px\">\n",
              "    <path d=\"M0 0h24v24H0V0z\" fill=\"none\"/>\n",
              "    <path d=\"M18.56 5.44l.94 2.06.94-2.06 2.06-.94-2.06-.94-.94-2.06-.94 2.06-2.06.94zm-11 1L8.5 8.5l.94-2.06 2.06-.94-2.06-.94L8.5 2.5l-.94 2.06-2.06.94zm10 10l.94 2.06.94-2.06 2.06-.94-2.06-.94-.94-2.06-.94 2.06-2.06.94z\"/><path d=\"M17.41 7.96l-1.37-1.37c-.4-.4-.92-.59-1.43-.59-.52 0-1.04.2-1.43.59L10.3 9.45l-7.72 7.72c-.78.78-.78 2.05 0 2.83L4 21.41c.39.39.9.59 1.41.59.51 0 1.02-.2 1.41-.59l7.78-7.78 2.81-2.81c.8-.78.8-2.07 0-2.86zM5.41 20L4 18.59l7.72-7.72 1.47 1.35L5.41 20z\"/>\n",
              "  </svg>\n",
              "      </button>\n",
              "      \n",
              "  <style>\n",
              "    .colab-df-container {\n",
              "      display:flex;\n",
              "      flex-wrap:wrap;\n",
              "      gap: 12px;\n",
              "    }\n",
              "\n",
              "    .colab-df-convert {\n",
              "      background-color: #E8F0FE;\n",
              "      border: none;\n",
              "      border-radius: 50%;\n",
              "      cursor: pointer;\n",
              "      display: none;\n",
              "      fill: #1967D2;\n",
              "      height: 32px;\n",
              "      padding: 0 0 0 0;\n",
              "      width: 32px;\n",
              "    }\n",
              "\n",
              "    .colab-df-convert:hover {\n",
              "      background-color: #E2EBFA;\n",
              "      box-shadow: 0px 1px 2px rgba(60, 64, 67, 0.3), 0px 1px 3px 1px rgba(60, 64, 67, 0.15);\n",
              "      fill: #174EA6;\n",
              "    }\n",
              "\n",
              "    [theme=dark] .colab-df-convert {\n",
              "      background-color: #3B4455;\n",
              "      fill: #D2E3FC;\n",
              "    }\n",
              "\n",
              "    [theme=dark] .colab-df-convert:hover {\n",
              "      background-color: #434B5C;\n",
              "      box-shadow: 0px 1px 3px 1px rgba(0, 0, 0, 0.15);\n",
              "      filter: drop-shadow(0px 1px 2px rgba(0, 0, 0, 0.3));\n",
              "      fill: #FFFFFF;\n",
              "    }\n",
              "  </style>\n",
              "\n",
              "      <script>\n",
              "        const buttonEl =\n",
              "          document.querySelector('#df-402eb5ad-900a-4fac-8e03-1442858aba06 button.colab-df-convert');\n",
              "        buttonEl.style.display =\n",
              "          google.colab.kernel.accessAllowed ? 'block' : 'none';\n",
              "\n",
              "        async function convertToInteractive(key) {\n",
              "          const element = document.querySelector('#df-402eb5ad-900a-4fac-8e03-1442858aba06');\n",
              "          const dataTable =\n",
              "            await google.colab.kernel.invokeFunction('convertToInteractive',\n",
              "                                                     [key], {});\n",
              "          if (!dataTable) return;\n",
              "\n",
              "          const docLinkHtml = 'Like what you see? Visit the ' +\n",
              "            '<a target=\"_blank\" href=https://colab.research.google.com/notebooks/data_table.ipynb>data table notebook</a>'\n",
              "            + ' to learn more about interactive tables.';\n",
              "          element.innerHTML = '';\n",
              "          dataTable['output_type'] = 'display_data';\n",
              "          await google.colab.output.renderOutput(dataTable, element);\n",
              "          const docLink = document.createElement('div');\n",
              "          docLink.innerHTML = docLinkHtml;\n",
              "          element.appendChild(docLink);\n",
              "        }\n",
              "      </script>\n",
              "    </div>\n",
              "  </div>\n",
              "  "
            ]
          },
          "metadata": {},
          "execution_count": 11
        }
      ]
    },
    {
      "cell_type": "markdown",
      "source": [
        "Hacemos uso de la libreria de scipy.stats con `st`, usando una distribuciones de variables continuas `t`, y por ultimo usamos el metodo `interval` para hallar el intervalo de confianza (confidence interval CV).\n",
        "\n",
        "Si la cantidad de muestras es menor a 30, usamos:\n",
        "```python\n",
        "  st.t.interval(alpha, df, loc, scale)\n",
        "```\n",
        "Mientras que si la cantidad de muestras es mayor a 30 usaremos: \n",
        "```python\n",
        "  st.norm.interval(alpha, loc, scale)\n",
        "``` \n",
        "\n"
      ],
      "metadata": {
        "id": "miOTMlrTxeFa"
      }
    },
    {
      "cell_type": "markdown",
      "source": [
        "Como usaremos valores mayores a 50, entonces usaremos `st.norm.interval` en donde sus parametros a analizar seran:\n",
        "- `alpha = 0.95`: Esto debido a que se quiere un IC con un indice del 95%.\n",
        "- `loc = np.mean(tabla)`: Enviamos el parametro de la media para ue nos devuelva los limites de acuerdo a la caracteristica del conjunto de datos.\n",
        "- `scale = st.sem(tabla)`: Error estándar de la media $SE = \\frac{\\sigma}{\\sqrt{n}}$, esto nos indica que el error de muestreo disminuye cuando crece el numero de muestras."
      ],
      "metadata": {
        "id": "waqLJI0P8ZPo"
      }
    },
    {
      "cell_type": "code",
      "source": [
        "# 95\n",
        "st.norm.interval(alpha = 0.95, loc = np.mean(tabla), scale = st.sem(tabla))"
      ],
      "metadata": {
        "colab": {
          "base_uri": "https://localhost:8080/"
        },
        "id": "3vHYk-cjxaXe",
        "outputId": "6741d367-64a6-4705-ddc7-012e341c0a1d"
      },
      "execution_count": 32,
      "outputs": [
        {
          "output_type": "execute_result",
          "data": {
            "text/plain": [
              "(array([6.18648043, 6.45686902]), array([8.89351957, 9.26248125]))"
            ]
          },
          "metadata": {},
          "execution_count": 32
        }
      ]
    },
    {
      "cell_type": "markdown",
      "source": [
        "## Reto - Calculo para otros niveles de significancia"
      ],
      "metadata": {
        "id": "4NuyWaHO6DMJ"
      }
    },
    {
      "cell_type": "markdown",
      "source": [
        "### Para 68%"
      ],
      "metadata": {
        "id": "_PbnMisP6aB3"
      }
    },
    {
      "cell_type": "code",
      "source": [
        "#68\n",
        "st.norm.interval(alpha = 0.68, loc = np.mean(tabla), scale=st.sem(tabla))"
      ],
      "metadata": {
        "colab": {
          "base_uri": "https://localhost:8080/"
        },
        "id": "aGDAuBQo6gl6",
        "outputId": "db805b3b-cb2b-4219-b0c2-deac2862dbad"
      },
      "execution_count": 35,
      "outputs": [
        {
          "output_type": "execute_result",
          "data": {
            "text/plain": [
              "(array([6.8532434 , 7.14791124]), array([8.2267566 , 8.57143903]))"
            ]
          },
          "metadata": {},
          "execution_count": 35
        }
      ]
    },
    {
      "cell_type": "markdown",
      "source": [
        "$IC_{68\\%}(6.85 ; 8.22) \\ | \\ Símbolos \\ Transmitidos$\n",
        "\n",
        "$IC_{68\\%}(7.14 ; 8.57) \\ | \\ Símbolos + Ruido$"
      ],
      "metadata": {
        "id": "p1hjf-mhBLwl"
      }
    },
    {
      "cell_type": "markdown",
      "source": [
        "### Para 99.7 %"
      ],
      "metadata": {
        "id": "43ybaAX7B948"
      }
    },
    {
      "cell_type": "code",
      "source": [
        "#99.7\n",
        "st.norm.interval(alpha = 0.997, loc = np.mean(tabla), scale=st.sem(tabla))"
      ],
      "metadata": {
        "colab": {
          "base_uri": "https://localhost:8080/"
        },
        "id": "UBp-CAc5Ah5O",
        "outputId": "cbcd6e80-c45c-4867-979d-9146f3bc49a7"
      },
      "execution_count": 38,
      "outputs": [
        {
          "output_type": "execute_result",
          "data": {
            "text/plain": [
              "(array([5.49052797, 5.73557441]), array([9.58947203, 9.98377586]))"
            ]
          },
          "metadata": {},
          "execution_count": 38
        }
      ]
    },
    {
      "cell_type": "markdown",
      "source": [
        "$IC_{99.7\\%}(5.49 ; 9.58) \\ | \\ Símbolos \\ Transmitidos$\n",
        "\n",
        "$IC_{99.7\\%}(5.73 ; 9.98) \\ | \\ Símbolos + Ruido$"
      ],
      "metadata": {
        "id": "AFx0I3e_BTZb"
      }
    }
  ]
}