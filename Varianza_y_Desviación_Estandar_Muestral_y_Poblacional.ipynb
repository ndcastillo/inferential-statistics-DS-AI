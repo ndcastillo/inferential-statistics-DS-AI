{
  "nbformat": 4,
  "nbformat_minor": 0,
  "metadata": {
    "colab": {
      "name": "Varianza y Desviación Estandar Muestral y Poblacional.ipynb",
      "provenance": [],
      "authorship_tag": "ABX9TyMWPXNyBdsNPWyO8AE20vxz",
      "include_colab_link": true
    },
    "kernelspec": {
      "name": "python3",
      "display_name": "Python 3"
    },
    "language_info": {
      "name": "python"
    }
  },
  "cells": [
    {
      "cell_type": "markdown",
      "metadata": {
        "id": "view-in-github",
        "colab_type": "text"
      },
      "source": [
        "<a href=\"https://colab.research.google.com/github/ndcastillo/inferential-statistics-DS-AI/blob/main/Varianza_y_Desviaci%C3%B3n_Estandar_Muestral_y_Poblacional.ipynb\" target=\"_parent\"><img src=\"https://colab.research.google.com/assets/colab-badge.svg\" alt=\"Open In Colab\"/></a>"
      ]
    },
    {
      "cell_type": "code",
      "execution_count": null,
      "metadata": {
        "id": "H9P8MDCQt9R0"
      },
      "outputs": [],
      "source": [
        "import pandas as pd\n",
        "import numpy as np\n",
        "import math"
      ]
    },
    {
      "cell_type": "markdown",
      "source": [
        "## Cálculo de parámetros Poblacionales"
      ],
      "metadata": {
        "id": "8ahEzStW1SBA"
      }
    },
    {
      "cell_type": "code",
      "source": [
        "x = pd.Series([7,10,12,13,16,9,8,12,8,6,\n",
        "     16,23,11,17,20,21,25,30,31,\n",
        "     33,37,39,27,36,40,43,41,45])\n",
        "x.mean()\n",
        "media_poblacional = x.mean()\n",
        "\n",
        "sum=0\n",
        "for i in range(len(x)):\n",
        "  sum = sum + (x[i]-media_poblacional)**2\n",
        "\n",
        "desviacion_poblacional = math.sqrt(sum/len(x))\n",
        "varianza_poblacional = desviacion_poblacional**2\n",
        "\n",
        "print('Media Poblacional = '+str(media_poblacional.round(2)))\n",
        "print('Desviación Poblacional = '+str(desviacion_poblacional))\n",
        "print('Variación Poblacional = '+str(varianza_poblacional))"
      ],
      "metadata": {
        "colab": {
          "base_uri": "https://localhost:8080/"
        },
        "id": "ZAJa0fahuG5m",
        "outputId": "aff81150-067c-409b-91c7-6b25a241f44e"
      },
      "execution_count": null,
      "outputs": [
        {
          "output_type": "stream",
          "name": "stdout",
          "text": [
            "Media Poblacional = 22.71\n",
            "Desviación Poblacional = 12.452358189909088\n",
            "Variación Poblacional = 155.06122448979593\n"
          ]
        }
      ]
    },
    {
      "cell_type": "markdown",
      "source": [
        "## Cálculo de parámetros Muestrales"
      ],
      "metadata": {
        "id": "hHv5L4Pu1YKI"
      }
    },
    {
      "cell_type": "code",
      "source": [
        "muestra = x.sample(n=10, random_state=10)\n",
        "print('Muestra: '+ str(muestra.values))\n",
        "media_muestral = muestra.mean()\n",
        "\n",
        "sum=0\n",
        "for i in range(len(x)):\n",
        "  sum = sum + (x[i]-media_poblacional)**2\n",
        "\n",
        "desviacion_muestral = math.sqrt(sum/(len(x)-1))\n",
        "varianza_muestral = desviacion_muestral**2\n",
        "\n",
        "print('Media Muestral = '+str(media_muestral.round(2)))\n",
        "print('Desviación Muestral = '+str(desviacion_muestral))\n",
        "print('Variación Muestral = '+str(varianza_muestral))"
      ],
      "metadata": {
        "colab": {
          "base_uri": "https://localhost:8080/"
        },
        "id": "OipJjIrwvxYE",
        "outputId": "3285d33e-a9ce-49ea-b612-d88309871e91"
      },
      "execution_count": null,
      "outputs": [
        {
          "output_type": "stream",
          "name": "stdout",
          "text": [
            "Muestra: [12 39  9 12 17 33 23 11 10 27]\n",
            "Media Muestral = 19.3\n",
            "Desviación Muestral = 12.680860885769263\n",
            "Variación Muestral = 160.8042328042328\n"
          ]
        }
      ]
    }
  ]
}